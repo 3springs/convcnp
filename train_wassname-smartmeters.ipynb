{
 "cells": [
  {
   "cell_type": "code",
   "execution_count": 1,
   "metadata": {
    "ExecuteTime": {
     "end_time": "2020-02-23T08:04:35.403837Z",
     "start_time": "2020-02-23T08:04:35.400864Z"
    }
   },
   "outputs": [],
   "source": [
    "# %reload_ext autoreload\n",
    "# %autoreload 2"
   ]
  },
  {
   "cell_type": "code",
   "execution_count": 2,
   "metadata": {
    "ExecuteTime": {
     "end_time": "2020-02-23T08:04:37.869662Z",
     "start_time": "2020-02-23T08:04:35.413216Z"
    }
   },
   "outputs": [],
   "source": [
    "import argparse\n",
    "\n",
    "import numpy as np\n",
    "import stheno.torch as stheno\n",
    "import torch\n",
    "from tqdm.auto import tqdm\n",
    "from tensorboardX import SummaryWriter\n",
    "import convcnp.data\n",
    "from convcnp.architectures import SimpleConv, UNet\n",
    "from convcnp.cnp import RegressionANP as ANP\n",
    "from convcnp.cnp import RegressionCNP as CNP\n",
    "from convcnp.experiment import (\n",
    "    report_loss,\n",
    "    RunningAverage,\n",
    "    generate_root,\n",
    "    WorkingDirectory,\n",
    "    save_checkpoint\n",
    ")\n",
    "from convcnp.set_conv import ConvCNP\n",
    "from convcnp.utils import device, gaussian_logpdf\n",
    "\n"
   ]
  },
  {
   "cell_type": "markdown",
   "metadata": {},
   "source": [
    "# Data"
   ]
  },
  {
   "cell_type": "code",
   "execution_count": 3,
   "metadata": {
    "ExecuteTime": {
     "end_time": "2020-02-23T08:04:38.372431Z",
     "start_time": "2020-02-23T08:04:37.872581Z"
    }
   },
   "outputs": [],
   "source": [
    "from pathlib import Path\n",
    "import pandas as pd\n",
    "import numpy as np\n",
    "import torch\n",
    "\n",
    "def npsample_batch(x, y, size=None, sort=True):\n",
    "    \"\"\"Sample from numpy arrays along 2nd dim.\"\"\"\n",
    "    inds = np.random.choice(range(x.shape[1]), size=size, replace=False)\n",
    "    if sort:\n",
    "        inds.sort()\n",
    "    return x[:, inds], y[:, inds]\n",
    "\n",
    "def collate_fns(max_num_context, max_num_extra_target, sample, sort=True, context_in_target=True):\n",
    "    def collate_fn(batch, sample=sample):\n",
    "        # Collate\n",
    "        x = np.stack([x for x, y in batch], 0)\n",
    "        y = np.stack([y for x, y in batch], 0)\n",
    "\n",
    "        # Sample a subset of random size\n",
    "        num_context = np.random.randint(4, max_num_context)\n",
    "        num_extra_target = np.random.randint(4, max_num_extra_target)\n",
    "\n",
    "        x = torch.from_numpy(x).float()\n",
    "        y = torch.from_numpy(y).float()\n",
    "\n",
    "        # Last feature will show how far in time a point is from out last context\n",
    "        assert (np.diff(x[:, :, 0], 1)>=0).all(), 'first features should be ordered e.g. seconds'\n",
    "        assert (x[:, max_num_context, -1]==0.).all(), 'last features should be empty'\n",
    "        time = x[:, :, 0]\n",
    "        t0 = x[:, max_num_context, 0][:, None]\n",
    "        x[:, :, -1] = time - t0  # Feature to let the model know this is past data\n",
    "        \n",
    "        x_context = x[:, :max_num_context]\n",
    "        y_context = y[:, :max_num_context]\n",
    "    \n",
    "        x_target_extra = x[:, max_num_context:]\n",
    "        y_target_extra = y[:, max_num_context:]\n",
    "        \n",
    "        if sample:\n",
    "\n",
    "            # This is slightly differen't than normal, we are ensuring that our target point are in the future, to mimic deployment\n",
    "            x_context, y_context = npsample_batch(\n",
    "                x_context, y_context, size=num_context, sort=sort\n",
    "            )\n",
    "\n",
    "            x_target_extra, y_target_extra = npsample_batch(\n",
    "                x_target_extra, y_target_extra, size=num_extra_target, sort=sort\n",
    "            )\n",
    "\n",
    "        # do we want to compute loss over context+target_extra, or focus in on only target_extra?\n",
    "        if context_in_target:\n",
    "            x_target = torch.cat([x_context, x_target_extra], 1)\n",
    "            y_target = torch.cat([y_context, y_target_extra], 1)\n",
    "        else:\n",
    "            x_target = x_target_extra\n",
    "            y_target = y_target_extra\n",
    "\n",
    "        assert (x[:, -1, -1] > 0).all()\n",
    "        assert (x[:, 0, -1] < 0).all()\n",
    "        \n",
    "#         return x_context, y_context, x_target, y_target\n",
    "        return dict(x=x, y=y, x_context=x_context, y_context=y_context, x_target=x_target, y_target=y_target)\n",
    "\n",
    "\n",
    "    return collate_fn\n",
    "\n",
    "\n",
    "class SmartMeterDataSet(torch.utils.data.Dataset):\n",
    "    def __init__(self, df, num_context=40, num_extra_target=10, label_names=['energy(kWh/hh)']):\n",
    "        self.df = df\n",
    "        self.num_context = num_context\n",
    "        self.num_extra_target = num_extra_target\n",
    "        self.label_names = label_names\n",
    "\n",
    "    def get_rows(self, i):\n",
    "        rows = self.df.iloc[i : i + (self.num_context + self.num_extra_target)].copy()\n",
    "        rows['tstp'] = (rows['tstp'] - rows['tstp'].iloc[0]).dt.total_seconds() / 86400.0\n",
    "        rows = rows.sort_values('tstp')\n",
    "\n",
    "        # make sure tstp, which is our x axis, is the first value\n",
    "        columns = ['tstp'] + list(set(rows.columns) - set(['tstp'])) + ['future']\n",
    "        rows['future'] = 0.\n",
    "        rows = rows[columns]\n",
    "\n",
    "        # This will be the last row, and will change it upon sample to let the model know some points are in the future\n",
    "\n",
    "        x = rows.drop(columns=self.label_names).copy()\n",
    "        y = rows[self.label_names].copy()\n",
    "        return x, y\n",
    "\n",
    "\n",
    "    def __getitem__(self, i):\n",
    "        x, y = self.get_rows(i)\n",
    "        return x.values, y.values\n",
    "        \n",
    "    def __len__(self):\n",
    "        return len(self.df) - (self.num_context + self.num_extra_target)\n",
    "\n",
    "def get_smartmeter_df(indir=Path('./data/smart-meters-in-london'), use_logy=False):\n",
    "    csv_files = sorted(Path('data/smart-meters-in-london/halfhourly_dataset').glob('*.csv'))[:1]\n",
    "    df = pd.concat([pd.read_csv(f, parse_dates=[1], na_values=['Null']) for f in csv_files])\n",
    "#     print(df.info())\n",
    "\n",
    "    df = df.groupby('tstp').mean()\n",
    "    df['tstp'] = df.index\n",
    "    df.index.name = ''\n",
    "\n",
    "    # Load weather data\n",
    "    df_weather = pd.read_csv(indir/'weather_hourly_darksky.csv', parse_dates=[3])\n",
    "\n",
    "    use_cols = ['visibility', 'windBearing', 'temperature', 'time', 'dewPoint',\n",
    "           'pressure', 'apparentTemperature', 'windSpeed', \n",
    "           'humidity']\n",
    "    df_weather = df_weather[use_cols].set_index('time')\n",
    "\n",
    "    # Resample to match energy data    \n",
    "    df_weather = df_weather.resample('30T').ffill()\n",
    "\n",
    "    # Normalise\n",
    "    weather_norms=dict(mean={'visibility': 11.2,\n",
    "     'windBearing': 195.7,\n",
    "     'temperature': 10.5,\n",
    "     'dewPoint': 6.5,\n",
    "     'pressure': 1014.1,\n",
    "     'apparentTemperature': 9.2,\n",
    "     'windSpeed': 3.9,\n",
    "     'humidity': 0.8},\n",
    "    std={'visibility': 3.1,\n",
    "     'windBearing': 90.6,\n",
    "     'temperature': 5.8,\n",
    "     'dewPoint': 5.0,\n",
    "     'pressure': 11.4,\n",
    "     'apparentTemperature': 6.9,\n",
    "     'windSpeed': 2.0,\n",
    "     'humidity': 0.1})\n",
    "\n",
    "    for col in df_weather.columns:\n",
    "        df_weather[col] -= weather_norms['mean'][col]\n",
    "        df_weather[col] /= weather_norms['std'][col]\n",
    "\n",
    "    df = pd.concat([df, df_weather], 1).dropna()\n",
    "    \n",
    "    \n",
    "    # Also find bank holidays\n",
    "    df_hols = pd.read_csv(indir/'uk_bank_holidays.csv', parse_dates=[0])\n",
    "    holidays = set(df_hols['Bank holidays'].dt.round('D'))\n",
    "\n",
    "    df['holiday'] = df.tstp.apply(lambda dt:dt.floor('D') in holidays).astype(int)\n",
    "\n",
    "    # Add time features\n",
    "    time = df.tstp\n",
    "    df[\"month\"] = time.dt.month / 12.0\n",
    "    df['day'] = time.dt.day / 310.0\n",
    "    df['week'] = time.dt.week / 52.0\n",
    "    df['hour'] = time.dt.hour / 24.0\n",
    "    df['minute'] = time.dt.minute / 24.0\n",
    "    df['dayofweek'] = time.dt.dayofweek / 7.0\n",
    "\n",
    "    # Drop nan and 0's\n",
    "    df = df[df['energy(kWh/hh)']!=0]\n",
    "    df = df.dropna()\n",
    "\n",
    "    if use_logy:\n",
    "        df['energy(kWh/hh)'] = np.log(df['energy(kWh/hh)']+1e-4)\n",
    "    df = df.sort_values('tstp')\n",
    "    \n",
    "    # split data\n",
    "    n_split = -int(len(df)*0.1)\n",
    "    df_train = df[:n_split]\n",
    "    df_test = df[n_split:]\n",
    "    return df_train, df_test\n"
   ]
  },
  {
   "cell_type": "markdown",
   "metadata": {},
   "source": [
    "# Helpers"
   ]
  },
  {
   "cell_type": "code",
   "execution_count": 4,
   "metadata": {
    "ExecuteTime": {
     "end_time": "2020-02-23T08:04:38.391166Z",
     "start_time": "2020-02-23T08:04:38.375444Z"
    }
   },
   "outputs": [],
   "source": [
    "from convcnp.utils import (\n",
    "    device\n",
    ")\n",
    "\n",
    "def validate(data, model, report_freq=None):\n",
    "    \"\"\"Compute the validation loss.\"\"\"\n",
    "    ravg = RunningAverage()\n",
    "    model.eval()\n",
    "    with torch.no_grad():\n",
    "        for step, task in enumerate(tqdm(data)):\n",
    "            for k in task.keys(): task[k] = task[k].to(device)\n",
    "            y_mean, y_std = \\\n",
    "                model(task['x_context'], task['y_context'], task['x_target'])\n",
    "            obj = \\\n",
    "                -gaussian_logpdf(task['y_target'], y_mean, y_std,\n",
    "                                 'batched_mean')\n",
    "            ravg.update(obj.item() / data.batch_size, data.batch_size)\n",
    "            if report_freq:\n",
    "                report_loss('Validation', ravg.avg, step, report_freq)\n",
    "    return ravg.avg\n",
    "\n",
    "\n",
    "def train(data, model, opt, report_freq):\n",
    "    \"\"\"Perform a training epoch.\"\"\"\n",
    "    ravg = RunningAverage()\n",
    "    model.train()\n",
    "    for step, task in enumerate(tqdm(data)):\n",
    "        for k in task.keys(): task[k] = task[k].to(device)\n",
    "        y_mean, y_std = model(task['x_context'], task['y_context'],\n",
    "                              task['x_target'])\n",
    "        obj = -gaussian_logpdf(task['y_target'], y_mean, y_std, 'batched_mean')\n",
    "        obj.backward()\n",
    "        opt.step()\n",
    "        opt.zero_grad()\n",
    "        ravg.update(obj.item() / data.batch_size, data.batch_size)\n",
    "        report_loss('Training', ravg.avg, step, report_freq)\n",
    "    return ravg.avg\n"
   ]
  },
  {
   "cell_type": "code",
   "execution_count": 5,
   "metadata": {
    "ExecuteTime": {
     "end_time": "2020-02-23T08:04:38.624184Z",
     "start_time": "2020-02-23T08:04:38.394917Z"
    }
   },
   "outputs": [],
   "source": [
    "from matplotlib import pyplot as plt\n",
    "\n",
    "def to_numpy(x):\n",
    "    \"\"\"Convert a PyTorch tensor to NumPy.\"\"\"\n",
    "    return x.squeeze().detach().cpu().numpy()\n",
    "\n",
    "\n",
    "def plot(gen, model, name):\n",
    "    label = \"energy(kWh/hh)\"\n",
    "    # Make prediction\n",
    "#     task = next(iter(gen))\n",
    "    task = gen_val.collate_fn([gen_val.dataset[670]])\n",
    "    for k in task.keys(): task[k] = task[k].to(device)\n",
    "    x_context = task['x_context'][:1]\n",
    "    y_context = task['y_context'][:1]\n",
    "    x_target = task['x_target'][:1]\n",
    "    y_target = task['y_target'][:1]\n",
    "    x_all = task['x'][:1]\n",
    "    y_all = task['y'][:1]\n",
    "\n",
    "\n",
    "    y_mean, y_std = model(x_context, y_context,\n",
    "                                  x_target)\n",
    "\n",
    "    \n",
    "    # sort target for pred & plotting\n",
    "    inds_target = torch.argsort(x_target[0, :, 0])\n",
    "    x_target = x_target[:, inds_target]\n",
    "    y_target = y_target[:, inds_target]\n",
    "    y_mean = y_mean[:, inds_target]\n",
    "    y_std = y_std[:, inds_target]\n",
    "\n",
    "    # Plot context set.\n",
    "    plt.scatter(to_numpy(x_target)[:, 0], to_numpy(y_target), label='Target Set', s=20, color='grey', alpha=0.5)\n",
    "    plt.scatter(to_numpy(x_context)[:, 0], to_numpy(y_context), label='Context Set', color='black')    \n",
    "    plt.plot(to_numpy(x_all)[:, 0], to_numpy(y_all), '--',  label='Sampled function', color='gray', alpha=0.9)\n",
    "    ylims = plt.ylim()\n",
    "\n",
    "    # Plot model predictions.\n",
    "    plt.plot(to_numpy(x_target)[0:, 0], to_numpy(y_mean), label='%s Output' % name, color='blue')\n",
    "    plt.fill_between(to_numpy(x_target)[ :, 0],\n",
    "                     to_numpy(y_mean + 1 * y_std),\n",
    "                     to_numpy(y_mean - 1 * y_std),\n",
    "                     color='tab:blue', alpha=0.2)\n",
    "#     plt.ylim(-3., 3)\n",
    "#     plt.axis('off')\n",
    "    plt.ylim(*ylims)\n",
    "    plt.xlabel(\"Date\")\n",
    "    plt.ylabel(label)\n",
    "    plt.grid(b=None)\n",
    "    plt.legend()\n",
    "    plt.show()"
   ]
  },
  {
   "cell_type": "code",
   "execution_count": 6,
   "metadata": {
    "ExecuteTime": {
     "end_time": "2020-02-23T08:04:38.629955Z",
     "start_time": "2020-02-23T08:04:38.626820Z"
    }
   },
   "outputs": [],
   "source": [
    "# plot(gen_val, model, args.model)"
   ]
  },
  {
   "cell_type": "code",
   "execution_count": null,
   "metadata": {
    "ExecuteTime": {
     "end_time": "2020-02-23T06:21:58.727185Z",
     "start_time": "2020-02-23T06:21:58.600063Z"
    }
   },
   "outputs": [],
   "source": []
  },
  {
   "cell_type": "markdown",
   "metadata": {
    "ExecuteTime": {
     "end_time": "2020-02-02T02:48:03.075141Z",
     "start_time": "2020-02-02T02:48:02.873326Z"
    }
   },
   "source": [
    "# Args"
   ]
  },
  {
   "cell_type": "code",
   "execution_count": 7,
   "metadata": {
    "ExecuteTime": {
     "end_time": "2020-02-23T08:04:38.645814Z",
     "start_time": "2020-02-23T08:04:38.632501Z"
    }
   },
   "outputs": [],
   "source": [
    "\n",
    "\n",
    "# Parse arguments given to the script.\n",
    "parser = argparse.ArgumentParser()\n",
    "parser.add_argument('data',\n",
    "                    choices=['eq',\n",
    "                             'matern',\n",
    "                             'noisy-mixture',\n",
    "                             'weakly-periodic',\n",
    "                             'sawtooth', 'smartmeter'],\n",
    "                    help='Data set to train the CNP on. ')\n",
    "parser.add_argument('model',\n",
    "                    choices=['convcnp', 'convcnpxl', 'cnp', 'anp'],\n",
    "                    help='Choice of model. ')\n",
    "parser.add_argument('--root',\n",
    "                    help='Experiment root, which is the directory from which '\n",
    "                         'the experiment will run. If it is not given, '\n",
    "                         'a directory will be automatically created.')\n",
    "parser.add_argument('--train',\n",
    "                    action='store_true',\n",
    "                    help='Perform training. If this is not specified, '\n",
    "                         'the model will be attempted to be loaded from the '\n",
    "                         'experiment root.')\n",
    "parser.add_argument('--epochs',\n",
    "                    default=100,\n",
    "                    type=int,\n",
    "                    help='Number of epochs to train for.')\n",
    "parser.add_argument('--learning_rate',\n",
    "                    default=1e-3,\n",
    "                    type=float,\n",
    "                    help='Learning rate.')\n",
    "parser.add_argument('--weight_decay',\n",
    "                    default=1e-5,\n",
    "                    type=float,\n",
    "                    help='Weight decay.')\n",
    "args = parser.parse_args(['smartmeter', 'convcnp', '--train', '--epochs','500'])"
   ]
  },
  {
   "cell_type": "markdown",
   "metadata": {},
   "source": [
    "# Run"
   ]
  },
  {
   "cell_type": "code",
   "execution_count": 8,
   "metadata": {
    "ExecuteTime": {
     "end_time": "2020-02-23T08:04:47.421554Z",
     "start_time": "2020-02-23T08:04:38.648467Z"
    }
   },
   "outputs": [
    {
     "data": {
      "text/plain": [
       "((48, 17), (48, 1))"
      ]
     },
     "execution_count": 8,
     "metadata": {},
     "output_type": "execute_result"
    }
   ],
   "source": [
    "df_train, df_test = get_smartmeter_df()\n",
    "data_train = SmartMeterDataSet(\n",
    "            df_train, 24, 24\n",
    ")\n",
    "x, y = data_train[0]\n",
    "x.shape, y.shape"
   ]
  },
  {
   "cell_type": "code",
   "execution_count": 9,
   "metadata": {
    "ExecuteTime": {
     "end_time": "2020-02-23T08:04:47.436082Z",
     "start_time": "2020-02-23T08:04:47.425971Z"
    }
   },
   "outputs": [],
   "source": [
    "hparams = dict(\n",
    "    num_context=24*4,\n",
    "    num_extra_target=24*4,\n",
    "    num_workers=3,\n",
    "    batch_size=16,\n",
    "    context_in_target=True\n",
    "    \n",
    ")\n",
    "\n",
    "data_train = SmartMeterDataSet(\n",
    "    df_train, hparams[\"num_context\"], hparams[\"num_extra_target\"]\n",
    ")\n",
    "loader_train = torch.utils.data.DataLoader(\n",
    "    data_train,\n",
    "    batch_size=hparams[\"batch_size\"],\n",
    "    shuffle=True,\n",
    "    collate_fn=collate_fns(\n",
    "        hparams[\"num_context\"], hparams[\"num_extra_target\"], sample=True, context_in_target=hparams[\"context_in_target\"]\n",
    "    ),\n",
    "    num_workers=hparams[\"num_workers\"],\n",
    ")\n",
    "\n",
    "\n",
    "data_test = SmartMeterDataSet(\n",
    "    df_test, hparams[\"num_context\"], hparams[\"num_extra_target\"]\n",
    ")\n",
    "loader_val = loader_test = torch.utils.data.DataLoader(\n",
    "    data_test,\n",
    "    batch_size=hparams[\"batch_size\"],\n",
    "    shuffle=False,\n",
    "    collate_fn=collate_fns(\n",
    "        hparams[\"num_context\"], hparams[\"num_extra_target\"], sample=False, context_in_target=hparams[\"context_in_target\"]\n",
    "    ),\n",
    ")"
   ]
  },
  {
   "cell_type": "code",
   "execution_count": 10,
   "metadata": {
    "ExecuteTime": {
     "end_time": "2020-02-23T08:04:52.328950Z",
     "start_time": "2020-02-23T08:04:47.439027Z"
    }
   },
   "outputs": [
    {
     "name": "stdout",
     "output_type": "stream",
     "text": [
      "Root: _experiments/2020-02-23_16-04-47_convcnp-smartmeter\n"
     ]
    }
   ],
   "source": [
    "\n",
    "# Load working directory.\n",
    "if args.root:\n",
    "    wd = WorkingDirectory(root=args.root)\n",
    "else:\n",
    "    experiment_name = f'{args.model}-{args.data}'\n",
    "    wd = WorkingDirectory(root=generate_root(experiment_name))\n",
    "\n",
    "# Load data generator.\n",
    "gen = loader_train\n",
    "gen_test = gen_val = loader_val\n",
    "\n",
    "# Load model.\n",
    "if args.model == 'convcnp':\n",
    "    model = ConvCNP(learn_length_scale=True,\n",
    "                    points_per_unit=64,\n",
    "                    architecture=SimpleConv(),\n",
    "                    x_dim=17,\n",
    "                    y_dim=1\n",
    "                   )\n",
    "elif args.model == 'convcnpxl':\n",
    "    model = ConvCNP(learn_length_scale=True,\n",
    "                    points_per_unit=64,\n",
    "                    architecture=UNet())\n",
    "elif args.model == 'cnp':\n",
    "    model = CNP(latent_dim=128)\n",
    "elif args.model == 'anp':\n",
    "    model = ANP(latent_dim=128)\n",
    "else:\n",
    "    raise ValueError(f'Unknown model {args.model}.')\n",
    "\n",
    "model.to(device)\n",
    "\n",
    "# Perform training.\n",
    "opt = torch.optim.Adam(model.parameters(),\n",
    "                       args.learning_rate,\n",
    "                       weight_decay=args.weight_decay)\n",
    "\n",
    "writer = SummaryWriter(wd.root)"
   ]
  },
  {
   "cell_type": "code",
   "execution_count": null,
   "metadata": {
    "ExecuteTime": {
     "end_time": "2020-02-23T07:26:33.455803Z",
     "start_time": "2020-02-23T07:26:33.418045Z"
    }
   },
   "outputs": [],
   "source": []
  },
  {
   "cell_type": "code",
   "execution_count": 11,
   "metadata": {
    "ExecuteTime": {
     "end_time": "2020-02-23T08:04:52.977540Z",
     "start_time": "2020-02-23T08:04:52.331832Z"
    }
   },
   "outputs": [
    {
     "data": {
      "text/plain": [
       "{'x': torch.Size([16, 192, 17]),\n",
       " 'y': torch.Size([16, 192, 1]),\n",
       " 'x_context': torch.Size([16, 49, 17]),\n",
       " 'y_context': torch.Size([16, 49, 1]),\n",
       " 'x_target': torch.Size([16, 77, 17]),\n",
       " 'y_target': torch.Size([16, 77, 1])}"
      ]
     },
     "execution_count": 11,
     "metadata": {},
     "output_type": "execute_result"
    }
   ],
   "source": [
    "r = next(iter(gen))\n",
    "{k:v.shape for k,v in r.items()}"
   ]
  },
  {
   "cell_type": "code",
   "execution_count": null,
   "metadata": {
    "ExecuteTime": {
     "end_time": "2020-02-23T06:18:30.938308Z",
     "start_time": "2020-02-23T06:18:29.419058Z"
    }
   },
   "outputs": [],
   "source": []
  },
  {
   "cell_type": "code",
   "execution_count": null,
   "metadata": {
    "ExecuteTime": {
     "start_time": "2020-02-23T08:04:35.500Z"
    }
   },
   "outputs": [
    {
     "data": {
      "image/png": "[encoded data removed]",
      "text/plain": [
       "<Figure size 432x288 with 1 Axes>"
      ]
     },
     "metadata": {
      "needs_background": "light"
     },
     "output_type": "display_data"
    },
    {
     "data": {
      "application/vnd.jupyter.widget-view+json": {
       "model_id": "a8059d4359094e8fa95f27f9a5c7dda8",
       "version_major": 2,
       "version_minor": 0
      },
      "text/plain": [
       "HBox(children=(FloatProgress(value=0.0, max=500.0), HTML(value='')))"
      ]
     },
     "metadata": {},
     "output_type": "display_data"
    },
    {
     "name": "stdout",
     "output_type": "stream",
     "text": [
      "\n",
      "Epoch: 1/500\n"
     ]
    },
    {
     "data": {
      "application/vnd.jupyter.widget-view+json": {
       "model_id": "f2c57caa3dc54f1cb427896a0685276f",
       "version_major": 2,
       "version_minor": 0
      },
      "text/plain": [
       "HBox(children=(FloatProgress(value=0.0, max=2195.0), HTML(value='')))"
      ]
     },
     "metadata": {},
     "output_type": "display_data"
    },
    {
     "name": "stdout",
     "output_type": "stream",
     "text": [
      "Training            1: 5.401e+01\n",
      "Training          500: 4.649e+00\n"
     ]
    }
   ],
   "source": [
    "\n",
    "plot(gen, model, args.model)\n",
    "\n",
    "if args.train:\n",
    "    # Run the training loop, maintaining the best objective value.\n",
    "    best_obj = np.inf\n",
    "    for epoch in tqdm(range(args.epochs)):\n",
    "        print('\\nEpoch: {}/{}'.format(epoch + 1, args.epochs))\n",
    "\n",
    "        # Compute training objective.\n",
    "        train_obj = train(gen, model, opt, report_freq=500)\n",
    "        report_loss('Training', train_obj, 'epoch')\n",
    "        writer.add_scalar('train/loss', train_obj, epoch)\n",
    "\n",
    "        # Compute validation objective.\n",
    "        val_obj = validate(gen_val, model, report_freq=200)\n",
    "        report_loss('Validation', val_obj, 'epoch')\n",
    "        writer.add_scalar('val/loss', val_obj, epoch)\n",
    "        \n",
    "        if epoch<10 or epoch%10==0:\n",
    "            plot(gen_val, model, args.model)\n",
    "\n",
    "        # Update the best objective value and checkpoint the model.\n",
    "        is_best = False\n",
    "        if val_obj < best_obj:\n",
    "            best_obj = val_obj\n",
    "            is_best = True\n",
    "        save_checkpoint(wd,\n",
    "                        {'epoch': epoch + 1,\n",
    "                         'state_dict': model.state_dict(),\n",
    "                         'best_acc_top1': best_obj,\n",
    "                         'optimizer': opt.state_dict()},\n",
    "                        is_best=is_best)\n",
    "else:\n",
    "    # Load saved model.\n",
    "    load_dict = torch.load(wd.file('model_best.pth.tar', exists=True))\n",
    "    model.load_state_dict(load_dict['state_dict'])"
   ]
  },
  {
   "cell_type": "code",
   "execution_count": null,
   "metadata": {
    "ExecuteTime": {
     "start_time": "2020-02-23T08:04:35.500Z"
    }
   },
   "outputs": [],
   "source": []
  },
  {
   "cell_type": "code",
   "execution_count": null,
   "metadata": {
    "ExecuteTime": {
     "start_time": "2020-02-23T08:04:35.500Z"
    }
   },
   "outputs": [],
   "source": [
    " mean = self.mean_layer(x_grid, h, x_out)\n",
    "ipdb> x_grid.shape\n",
    "torch.Size([1, 396, 1])    \n",
    "ipdb> p h.shape\n",
    "torch.Size([1, 396, 8]) # self.conv_net.out_channels = 8\n",
    "ipdb> x_out.shape\n",
    "torch.Size([1, 192, 17])\n",
    "\n",
    "\n",
    "so 8, and another 16 or 17"
   ]
  },
  {
   "cell_type": "code",
   "execution_count": null,
   "metadata": {
    "ExecuteTime": {
     "start_time": "2020-02-23T08:04:35.500Z"
    }
   },
   "outputs": [],
   "source": [
    "# Finally, test model on ~2000 tasks.\n",
    "test_obj = validate(gen_test, model)\n",
    "print('Model averages a log-likelihood of %s on unseen tasks.' % -test_obj)\n",
    "with open(wd.file('test_log_likelihood.txt'), 'w') as f:\n",
    "    f.write(str(-test_obj))\n"
   ]
  },
  {
   "cell_type": "markdown",
   "metadata": {},
   "source": [
    "# Scratch"
   ]
  },
  {
   "cell_type": "code",
   "execution_count": null,
   "metadata": {
    "ExecuteTime": {
     "start_time": "2020-02-23T08:04:35.500Z"
    }
   },
   "outputs": [],
   "source": [
    "kernel = stheno.EQ().stretch(1.) + \\\n",
    "                 stheno.EQ().stretch(.25) + \\\n",
    "                 0.001 * stheno.Delta()\n",
    "gen = convcnp.data.GPGenerator(kernel=kernel)\n",
    "gen_val = convcnp.data.GPGenerator(kernel=kernel, num_tasks=60)\n",
    "gen_test = convcnp.data.GPGenerator(kernel=kernel, num_tasks=2048)"
   ]
  },
  {
   "cell_type": "code",
   "execution_count": null,
   "metadata": {
    "ExecuteTime": {
     "start_time": "2020-02-23T08:04:35.500Z"
    }
   },
   "outputs": [],
   "source": [
    "r = next(iter(gen))\n",
    "{k:v.shape for k,v in r.items()}"
   ]
  },
  {
   "cell_type": "code",
   "execution_count": null,
   "metadata": {
    "ExecuteTime": {
     "start_time": "2020-02-23T08:04:35.500Z"
    }
   },
   "outputs": [],
   "source": [
    "plot(gen, model, args.model)"
   ]
  },
  {
   "cell_type": "code",
   "execution_count": null,
   "metadata": {
    "ExecuteTime": {
     "end_time": "2020-02-02T02:39:09.300230Z",
     "start_time": "2020-02-02T02:39:09.296789Z"
    }
   },
   "outputs": [],
   "source": []
  },
  {
   "cell_type": "code",
   "execution_count": null,
   "metadata": {
    "ExecuteTime": {
     "end_time": "2020-02-02T02:41:47.362559Z",
     "start_time": "2020-02-02T02:41:47.264083Z"
    }
   },
   "outputs": [],
   "source": []
  },
  {
   "cell_type": "code",
   "execution_count": null,
   "metadata": {
    "ExecuteTime": {
     "end_time": "2020-02-02T02:45:43.418734Z",
     "start_time": "2020-02-02T02:45:43.194861Z"
    }
   },
   "outputs": [],
   "source": []
  },
  {
   "cell_type": "code",
   "execution_count": null,
   "metadata": {},
   "outputs": [],
   "source": []
  }
 ],
 "metadata": {
  "kernelspec": {
   "display_name": "jup3.7.3",
   "language": "python",
   "name": "jup3.7.3"
  },
  "language_info": {
   "codemirror_mode": {
    "name": "ipython",
    "version": 3
   },
   "file_extension": ".py",
   "mimetype": "text/x-python",
   "name": "python",
   "nbconvert_exporter": "python",
   "pygments_lexer": "ipython3",
   "version": "3.7.3"
  },
  "toc": {
   "base_numbering": 1,
   "nav_menu": {},
   "number_sections": true,
   "sideBar": false,
   "skip_h1_title": false,
   "title_cell": "Table of Contents",
   "title_sidebar": "Contents",
   "toc_cell": false,
   "toc_position": {},
   "toc_section_display": true,
   "toc_window_display": true
  }
 },
 "nbformat": 4,
 "nbformat_minor": 2
}
